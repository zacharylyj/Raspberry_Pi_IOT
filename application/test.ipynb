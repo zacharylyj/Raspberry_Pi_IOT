{
 "cells": [
  {
   "cell_type": "code",
   "execution_count": 5,
   "metadata": {},
   "outputs": [
    {
     "name": "stdout",
     "output_type": "stream",
     "text": [
      "{'image': ('test_image.png', <_io.BufferedReader name='test_image.png'>, 'image/png')}\n",
      "Status Code: 201\n",
      "Response: {'message': 'History record added successfully'}\n"
     ]
    }
   ],
   "source": [
    "import requests\n",
    "\n",
    "url = \"http://127.0.0.1:5000/api/add\"\n",
    "\n",
    "# Prepare your data part\n",
    "data = {\n",
    "    \"worker_id\": \"103\",  # Ensure these are strings if they are being sent as form data\n",
    "    \"temperature\": \"90.8\"\n",
    "}\n",
    "\n",
    "# Prepare the files part. Assuming you have a test image named \"test_image.png\" in the current directory\n",
    "files = {\n",
    "    'image': ('test_image.png', open('test_image.png', 'rb'), 'image/png')\n",
    "}\n",
    "# Make the request with data and files\n",
    "response = requests.post(url, data=data, files=files)\n",
    "\n",
    "# Close the file (it's good practice to explicitly close files you open)\n",
    "files['image'][1].close()\n",
    "\n",
    "print(\"Status Code:\", response.status_code)\n",
    "print(\"Response:\", response.json())\n"
   ]
  }
 ],
 "metadata": {
  "kernelspec": {
   "display_name": "Python 3",
   "language": "python",
   "name": "python3"
  },
  "language_info": {
   "codemirror_mode": {
    "name": "ipython",
    "version": 3
   },
   "file_extension": ".py",
   "mimetype": "text/x-python",
   "name": "python",
   "nbconvert_exporter": "python",
   "pygments_lexer": "ipython3",
   "version": "3.10.8"
  }
 },
 "nbformat": 4,
 "nbformat_minor": 2
}
